{
 "cells": [
  {
   "cell_type": "code",
   "execution_count": 1,
   "id": "0d5bc80b-efd3-4b84-a217-ad92802edeb9",
   "metadata": {},
   "outputs": [],
   "source": [
    "import pandas as pd\n",
    "import numpy as np\n",
    "import seaborn as sns\n",
    "import matplotlib.pyplot as plt"
   ]
  },
  {
   "cell_type": "code",
   "execution_count": 3,
   "id": "6314e7ac-0a1d-44a1-89de-c51c36002a72",
   "metadata": {},
   "outputs": [],
   "source": [
    "data = pd.read_csv(\"ProjectHousing.csv\")"
   ]
  },
  {
   "cell_type": "code",
   "execution_count": 4,
   "id": "dad44d3e-0ebb-4fe4-84e5-ed6eb8abe940",
   "metadata": {},
   "outputs": [
    {
     "data": {
      "text/html": [
       "<div>\n",
       "<style scoped>\n",
       "    .dataframe tbody tr th:only-of-type {\n",
       "        vertical-align: middle;\n",
       "    }\n",
       "\n",
       "    .dataframe tbody tr th {\n",
       "        vertical-align: top;\n",
       "    }\n",
       "\n",
       "    .dataframe thead th {\n",
       "        text-align: right;\n",
       "    }\n",
       "</style>\n",
       "<table border=\"1\" class=\"dataframe\">\n",
       "  <thead>\n",
       "    <tr style=\"text-align: right;\">\n",
       "      <th></th>\n",
       "      <th>Unnamed: 0</th>\n",
       "      <th>Price</th>\n",
       "      <th>Bedroom</th>\n",
       "      <th>Bathroom</th>\n",
       "      <th>sqft</th>\n",
       "      <th>zipcode</th>\n",
       "      <th>Address</th>\n",
       "    </tr>\n",
       "  </thead>\n",
       "  <tbody>\n",
       "    <tr>\n",
       "      <th>0</th>\n",
       "      <td>0</td>\n",
       "      <td>$289,900</td>\n",
       "      <td>3 Bd</td>\n",
       "      <td>2 Bath</td>\n",
       "      <td>1,431 Sqft</td>\n",
       "      <td>13084</td>\n",
       "      <td>1839 Collins Road,\\n       \\n        Pompey, N...</td>\n",
       "    </tr>\n",
       "    <tr>\n",
       "      <th>1</th>\n",
       "      <td>1</td>\n",
       "      <td>$199,900</td>\n",
       "      <td>3 Bd</td>\n",
       "      <td>1 Bath</td>\n",
       "      <td>985 Sqft</td>\n",
       "      <td>13084</td>\n",
       "      <td>5850 Winacre Drive,\\n       \\n        La Fayet...</td>\n",
       "    </tr>\n",
       "    <tr>\n",
       "      <th>2</th>\n",
       "      <td>2</td>\n",
       "      <td>$114,900</td>\n",
       "      <td>3 Bd</td>\n",
       "      <td>2 Bath</td>\n",
       "      <td>1,274 Sqft</td>\n",
       "      <td>13084</td>\n",
       "      <td>3439 Route 11,\\n       \\n        La Fayette, N...</td>\n",
       "    </tr>\n",
       "    <tr>\n",
       "      <th>3</th>\n",
       "      <td>3</td>\n",
       "      <td>$205,092</td>\n",
       "      <td>3 Bd</td>\n",
       "      <td>1 Bath</td>\n",
       "      <td>1,260 Sqft</td>\n",
       "      <td>13077</td>\n",
       "      <td>5390 Mead Road,\\n       \\n        Homer, NY 13077</td>\n",
       "    </tr>\n",
       "    <tr>\n",
       "      <th>4</th>\n",
       "      <td>4</td>\n",
       "      <td>$24,900</td>\n",
       "      <td>1 Bd</td>\n",
       "      <td>1 Bath</td>\n",
       "      <td>842 Sqft</td>\n",
       "      <td>13120</td>\n",
       "      <td>155 Meredith Avenue,\\n       \\n        Onondag...</td>\n",
       "    </tr>\n",
       "  </tbody>\n",
       "</table>\n",
       "</div>"
      ],
      "text/plain": [
       "   Unnamed: 0     Price Bedroom Bathroom        sqft zipcode  \\\n",
       "0           0  $289,900    3 Bd   2 Bath  1,431 Sqft   13084   \n",
       "1           1  $199,900    3 Bd   1 Bath    985 Sqft   13084   \n",
       "2           2  $114,900    3 Bd   2 Bath  1,274 Sqft   13084   \n",
       "3           3  $205,092    3 Bd   1 Bath  1,260 Sqft   13077   \n",
       "4           4   $24,900    1 Bd   1 Bath    842 Sqft   13120   \n",
       "\n",
       "                                             Address  \n",
       "0  1839 Collins Road,\\n       \\n        Pompey, N...  \n",
       "1  5850 Winacre Drive,\\n       \\n        La Fayet...  \n",
       "2  3439 Route 11,\\n       \\n        La Fayette, N...  \n",
       "3  5390 Mead Road,\\n       \\n        Homer, NY 13077  \n",
       "4  155 Meredith Avenue,\\n       \\n        Onondag...  "
      ]
     },
     "execution_count": 4,
     "metadata": {},
     "output_type": "execute_result"
    }
   ],
   "source": [
    "data.head(5)"
   ]
  },
  {
   "cell_type": "code",
   "execution_count": 7,
   "id": "fa161553-319c-40c7-842f-d0106ee254c5",
   "metadata": {},
   "outputs": [
    {
     "data": {
      "text/plain": [
       "(107294, 7)"
      ]
     },
     "execution_count": 7,
     "metadata": {},
     "output_type": "execute_result"
    }
   ],
   "source": [
    "data.shape"
   ]
  },
  {
   "cell_type": "code",
   "execution_count": 9,
   "id": "0b7f779c-735b-4801-9d91-16405fa9a681",
   "metadata": {},
   "outputs": [
    {
     "name": "stdout",
     "output_type": "stream",
     "text": [
      "<class 'pandas.core.frame.DataFrame'>\n",
      "RangeIndex: 107294 entries, 0 to 107293\n",
      "Data columns (total 7 columns):\n",
      " #   Column      Non-Null Count   Dtype \n",
      "---  ------      --------------   ----- \n",
      " 0   Unnamed: 0  107294 non-null  int64 \n",
      " 1   Price       107294 non-null  object\n",
      " 2   Bedroom     78552 non-null   object\n",
      " 3   Bathroom    78552 non-null   object\n",
      " 4   sqft        78552 non-null   object\n",
      " 5   zipcode     107294 non-null  object\n",
      " 6   Address     107294 non-null  object\n",
      "dtypes: int64(1), object(6)\n",
      "memory usage: 5.7+ MB\n"
     ]
    }
   ],
   "source": [
    "data.info()"
   ]
  },
  {
   "cell_type": "code",
   "execution_count": 11,
   "id": "32ea8b67-0b61-4539-9b83-3e7a8474bf8f",
   "metadata": {},
   "outputs": [],
   "source": [
    "data = data.drop('Unnamed: 0',axis=1)"
   ]
  },
  {
   "cell_type": "code",
   "execution_count": 13,
   "id": "bfe83e7c-4609-4d85-b1ed-13f88871fc35",
   "metadata": {},
   "outputs": [
    {
     "data": {
      "text/plain": [
       "Price           0\n",
       "Bedroom     28742\n",
       "Bathroom    28742\n",
       "sqft        28742\n",
       "zipcode         0\n",
       "Address         0\n",
       "dtype: int64"
      ]
     },
     "execution_count": 13,
     "metadata": {},
     "output_type": "execute_result"
    }
   ],
   "source": [
    "data.isnull().sum()"
   ]
  },
  {
   "cell_type": "code",
   "execution_count": 15,
   "id": "0652170c-2975-4a21-850a-ca0986131e1a",
   "metadata": {},
   "outputs": [
    {
     "data": {
      "text/html": [
       "<div>\n",
       "<style scoped>\n",
       "    .dataframe tbody tr th:only-of-type {\n",
       "        vertical-align: middle;\n",
       "    }\n",
       "\n",
       "    .dataframe tbody tr th {\n",
       "        vertical-align: top;\n",
       "    }\n",
       "\n",
       "    .dataframe thead th {\n",
       "        text-align: right;\n",
       "    }\n",
       "</style>\n",
       "<table border=\"1\" class=\"dataframe\">\n",
       "  <thead>\n",
       "    <tr style=\"text-align: right;\">\n",
       "      <th></th>\n",
       "      <th>Price</th>\n",
       "      <th>Bedroom</th>\n",
       "      <th>Bathroom</th>\n",
       "      <th>sqft</th>\n",
       "      <th>zipcode</th>\n",
       "      <th>Address</th>\n",
       "    </tr>\n",
       "  </thead>\n",
       "  <tbody>\n",
       "    <tr>\n",
       "      <th>count</th>\n",
       "      <td>107294</td>\n",
       "      <td>78552</td>\n",
       "      <td>78552</td>\n",
       "      <td>78552</td>\n",
       "      <td>107294</td>\n",
       "      <td>107294</td>\n",
       "    </tr>\n",
       "    <tr>\n",
       "      <th>unique</th>\n",
       "      <td>5155</td>\n",
       "      <td>24</td>\n",
       "      <td>22</td>\n",
       "      <td>4959</td>\n",
       "      <td>3726</td>\n",
       "      <td>47407</td>\n",
       "    </tr>\n",
       "    <tr>\n",
       "      <th>top</th>\n",
       "      <td>$199,900</td>\n",
       "      <td>3 Bd</td>\n",
       "      <td>2 Bath</td>\n",
       "      <td>1,200 Sqft</td>\n",
       "      <td>24016</td>\n",
       "      <td>0 MARCELLO DRIVE,\\n       \\n        POTTSVILLE...</td>\n",
       "    </tr>\n",
       "    <tr>\n",
       "      <th>freq</th>\n",
       "      <td>881</td>\n",
       "      <td>35286</td>\n",
       "      <td>30587</td>\n",
       "      <td>519</td>\n",
       "      <td>357</td>\n",
       "      <td>103</td>\n",
       "    </tr>\n",
       "  </tbody>\n",
       "</table>\n",
       "</div>"
      ],
      "text/plain": [
       "           Price Bedroom Bathroom        sqft zipcode  \\\n",
       "count     107294   78552    78552       78552  107294   \n",
       "unique      5155      24       22        4959    3726   \n",
       "top     $199,900    3 Bd   2 Bath  1,200 Sqft   24016   \n",
       "freq         881   35286    30587         519     357   \n",
       "\n",
       "                                                  Address  \n",
       "count                                              107294  \n",
       "unique                                              47407  \n",
       "top     0 MARCELLO DRIVE,\\n       \\n        POTTSVILLE...  \n",
       "freq                                                  103  "
      ]
     },
     "execution_count": 15,
     "metadata": {},
     "output_type": "execute_result"
    }
   ],
   "source": [
    "data.describe()"
   ]
  },
  {
   "cell_type": "code",
   "execution_count": 16,
   "id": "85b5b899-5a6b-46cb-8c11-04584a520361",
   "metadata": {},
   "outputs": [],
   "source": [
    "data['Price'] = pd.to_numeric(data['Price'].str.replace('[$,]', '', regex=True))\n"
   ]
  },
  {
   "cell_type": "code",
   "execution_count": 18,
   "id": "b8d89e10-b2f9-46b5-b3d7-13bdeadee588",
   "metadata": {},
   "outputs": [
    {
     "data": {
      "text/plain": [
       "0          289900\n",
       "1          199900\n",
       "2          114900\n",
       "3          205092\n",
       "4           24900\n",
       "           ...   \n",
       "107289     179900\n",
       "107290      69900\n",
       "107291     244000\n",
       "107292    1150000\n",
       "107293     129900\n",
       "Name: Price, Length: 107294, dtype: int64"
      ]
     },
     "execution_count": 18,
     "metadata": {},
     "output_type": "execute_result"
    }
   ],
   "source": [
    "data['Price']"
   ]
  },
  {
   "cell_type": "code",
   "execution_count": 19,
   "id": "65ae2b0b-db09-42b9-9880-586ed947e4c8",
   "metadata": {},
   "outputs": [],
   "source": [
    "\n",
    "data['Bedroom'] = pd.to_numeric(data['Bedroom'].str.extract('(\\d+)')[0])\n",
    "data['Bathroom'] = pd.to_numeric(data['Bathroom'].str.extract('(\\d+)')[0])\n"
   ]
  },
  {
   "cell_type": "code",
   "execution_count": 21,
   "id": "78e773d2-b151-469d-ba57-6b3df800513f",
   "metadata": {},
   "outputs": [],
   "source": [
    "data['sqft'] = pd.to_numeric(data['sqft'].str.replace('[, Sqft]', '', regex=True))\n"
   ]
  },
  {
   "cell_type": "code",
   "execution_count": 23,
   "id": "b54bb6cd-dea5-4600-9a1a-dc73951e4aac",
   "metadata": {},
   "outputs": [
    {
     "data": {
      "text/html": [
       "<div>\n",
       "<style scoped>\n",
       "    .dataframe tbody tr th:only-of-type {\n",
       "        vertical-align: middle;\n",
       "    }\n",
       "\n",
       "    .dataframe tbody tr th {\n",
       "        vertical-align: top;\n",
       "    }\n",
       "\n",
       "    .dataframe thead th {\n",
       "        text-align: right;\n",
       "    }\n",
       "</style>\n",
       "<table border=\"1\" class=\"dataframe\">\n",
       "  <thead>\n",
       "    <tr style=\"text-align: right;\">\n",
       "      <th></th>\n",
       "      <th>Price</th>\n",
       "      <th>Bedroom</th>\n",
       "      <th>Bathroom</th>\n",
       "      <th>sqft</th>\n",
       "      <th>zipcode</th>\n",
       "      <th>Address</th>\n",
       "    </tr>\n",
       "  </thead>\n",
       "  <tbody>\n",
       "    <tr>\n",
       "      <th>0</th>\n",
       "      <td>289900</td>\n",
       "      <td>3.0</td>\n",
       "      <td>2.0</td>\n",
       "      <td>1431.0</td>\n",
       "      <td>13084</td>\n",
       "      <td>1839 Collins Road,\\n       \\n        Pompey, N...</td>\n",
       "    </tr>\n",
       "    <tr>\n",
       "      <th>1</th>\n",
       "      <td>199900</td>\n",
       "      <td>3.0</td>\n",
       "      <td>1.0</td>\n",
       "      <td>985.0</td>\n",
       "      <td>13084</td>\n",
       "      <td>5850 Winacre Drive,\\n       \\n        La Fayet...</td>\n",
       "    </tr>\n",
       "    <tr>\n",
       "      <th>2</th>\n",
       "      <td>114900</td>\n",
       "      <td>3.0</td>\n",
       "      <td>2.0</td>\n",
       "      <td>1274.0</td>\n",
       "      <td>13084</td>\n",
       "      <td>3439 Route 11,\\n       \\n        La Fayette, N...</td>\n",
       "    </tr>\n",
       "    <tr>\n",
       "      <th>3</th>\n",
       "      <td>205092</td>\n",
       "      <td>3.0</td>\n",
       "      <td>1.0</td>\n",
       "      <td>1260.0</td>\n",
       "      <td>13077</td>\n",
       "      <td>5390 Mead Road,\\n       \\n        Homer, NY 13077</td>\n",
       "    </tr>\n",
       "    <tr>\n",
       "      <th>4</th>\n",
       "      <td>24900</td>\n",
       "      <td>1.0</td>\n",
       "      <td>1.0</td>\n",
       "      <td>842.0</td>\n",
       "      <td>13120</td>\n",
       "      <td>155 Meredith Avenue,\\n       \\n        Onondag...</td>\n",
       "    </tr>\n",
       "  </tbody>\n",
       "</table>\n",
       "</div>"
      ],
      "text/plain": [
       "    Price  Bedroom  Bathroom    sqft zipcode  \\\n",
       "0  289900      3.0       2.0  1431.0   13084   \n",
       "1  199900      3.0       1.0   985.0   13084   \n",
       "2  114900      3.0       2.0  1274.0   13084   \n",
       "3  205092      3.0       1.0  1260.0   13077   \n",
       "4   24900      1.0       1.0   842.0   13120   \n",
       "\n",
       "                                             Address  \n",
       "0  1839 Collins Road,\\n       \\n        Pompey, N...  \n",
       "1  5850 Winacre Drive,\\n       \\n        La Fayet...  \n",
       "2  3439 Route 11,\\n       \\n        La Fayette, N...  \n",
       "3  5390 Mead Road,\\n       \\n        Homer, NY 13077  \n",
       "4  155 Meredith Avenue,\\n       \\n        Onondag...  "
      ]
     },
     "execution_count": 23,
     "metadata": {},
     "output_type": "execute_result"
    }
   ],
   "source": [
    "data.head(5)"
   ]
  },
  {
   "cell_type": "code",
   "execution_count": 24,
   "id": "2d95b01b-ec2f-4404-999e-20459f4e7ca3",
   "metadata": {},
   "outputs": [
    {
     "data": {
      "text/plain": [
       "Price       0.000000\n",
       "Bedroom     0.267881\n",
       "Bathroom    0.267881\n",
       "sqft        0.267881\n",
       "zipcode     0.000000\n",
       "Address     0.000000\n",
       "dtype: float64"
      ]
     },
     "execution_count": 24,
     "metadata": {},
     "output_type": "execute_result"
    }
   ],
   "source": [
    "(data.isnull().sum())/(data.shape[0])"
   ]
  },
  {
   "cell_type": "code",
   "execution_count": 25,
   "id": "976a1b7c-eda9-4fff-84a1-9817500767af",
   "metadata": {},
   "outputs": [
    {
     "data": {
      "image/png": "[encoded data removed]",
      "text/plain": [
       "<Figure size 2000x400 with 4 Axes>"
      ]
     },
     "metadata": {},
     "output_type": "display_data"
    }
   ],
   "source": [
    "import warnings\n",
    "warnings.filterwarnings(\"ignore\")\n",
    "\n",
    "numeric_columns = data.select_dtypes(include='number').columns\n",
    "num_cols = len(numeric_columns)\n",
    "fig, axes = plt.subplots(nrows=1, ncols=num_cols, figsize=(5 * num_cols, 4))\n",
    "fig.suptitle('Histograms of Numeric Columns', fontsize=16)\n",
    "\n",
    "for i, col in enumerate(numeric_columns):\n",
    "    sns.histplot(data[col], bins=10, kde=True, ax=axes[i])\n",
    "    axes[i].set_title(f'{col} Distribution')\n",
    "\n",
    "# Adjust layout\n",
    "plt.tight_layout()\n",
    "plt.subplots_adjust(top=0.85)  \n",
    "plt.show()\n",
    "\n",
    "\n"
   ]
  },
  {
   "cell_type": "code",
   "execution_count": 26,
   "id": "7ae1e0e4-428a-435a-b576-dc35d74c1346",
   "metadata": {},
   "outputs": [],
   "source": [
    "#boxplot to see outliers in the dataset"
   ]
  },
  {
   "cell_type": "code",
   "execution_count": 27,
   "id": "140f4ba0-a132-46e8-822a-cb9d78d8bb1d",
   "metadata": {},
   "outputs": [
    {
     "data": {
      "image/png": "[encoded data removed]",
      "text/plain": [
       "<Figure size 2000x500 with 4 Axes>"
      ]
     },
     "metadata": {},
     "output_type": "display_data"
    }
   ],
   "source": [
    "\n",
    "fig, axes = plt.subplots(nrows=1, ncols=num_cols, figsize=(5 * num_cols, 5))\n",
    "fig.suptitle('Boxplots of Numeric Columns', fontsize=16)\n",
    "\n",
    "# Plot each boxplot\n",
    "for i, col in enumerate(numeric_columns):\n",
    "    sns.boxplot(y=data[col], ax=axes[i])\n",
    "    axes[i].set_title(f'{col} Boxplot')\n",
    "\n",
    "# Adjust layout\n",
    "plt.tight_layout()\n",
    "plt.subplots_adjust(top=0.85)  # Leave space for the main title\n",
    "plt.show()"
   ]
  },
  {
   "cell_type": "code",
   "execution_count": 29,
   "id": "c089fc66-77a1-4b36-8564-5a8b84894cf2",
   "metadata": {},
   "outputs": [
    {
     "data": {
      "text/plain": [
       "<Axes: >"
      ]
     },
     "execution_count": 29,
     "metadata": {},
     "output_type": "execute_result"
    },
    {
     "data": {
      "image/png": "[encoded data removed]",
      "text/plain": [
       "<Figure size 200x200 with 2 Axes>"
      ]
     },
     "metadata": {},
     "output_type": "display_data"
    }
   ],
   "source": [
    "s = data.select_dtypes(include='number').corr()\n",
    "plt.figure(figsize=(2,2))\n",
    "sns.heatmap(s,annot=True)"
   ]
  },
  {
   "cell_type": "markdown",
   "id": "e22a6c18-d283-4ce9-8893-7e5f59ec1884",
   "metadata": {},
   "source": [
    "### Missing Value Treatment"
   ]
  },
  {
   "cell_type": "code",
   "execution_count": 31,
   "id": "4fb85b50-b6bb-430b-ae9d-0be1b70ba625",
   "metadata": {},
   "outputs": [
    {
     "data": {
      "text/plain": [
       "Price           0\n",
       "Bedroom     28742\n",
       "Bathroom    28742\n",
       "sqft        28742\n",
       "zipcode         0\n",
       "Address         0\n",
       "dtype: int64"
      ]
     },
     "execution_count": 31,
     "metadata": {},
     "output_type": "execute_result"
    }
   ],
   "source": [
    "data.isnull().sum()"
   ]
  },
  {
   "cell_type": "code",
   "execution_count": 35,
   "id": "44d5cf78-763b-4fc5-b9cc-eeed6a9bbaa6",
   "metadata": {},
   "outputs": [
    {
     "name": "stdout",
     "output_type": "stream",
     "text": [
      "Execution time: 842.7027184963226 seconds\n"
     ]
    }
   ],
   "source": [
    "import time\n",
    "s1 = time.time()\n",
    "from sklearn.impute import KNNImputer\n",
    "impute = KNNImputer(n_neighbors=2)\n",
    "\n",
    "for i in ['Bedroom','Bathroom','sqft']:\n",
    "    data[i] = impute.fit_transform(data[[i]])\n",
    "s2 = time.time()\n",
    "print(f\"Execution time: {s2-s1} seconds\")\n"
   ]
  },
  {
   "cell_type": "code",
   "execution_count": 36,
   "id": "08eec7a9-fafa-41ae-8f76-5076325fa67a",
   "metadata": {},
   "outputs": [
    {
     "data": {
      "text/plain": [
       "Price       0\n",
       "Bedroom     0\n",
       "Bathroom    0\n",
       "sqft        0\n",
       "zipcode     0\n",
       "Address     0\n",
       "dtype: int64"
      ]
     },
     "execution_count": 36,
     "metadata": {},
     "output_type": "execute_result"
    }
   ],
   "source": [
    "data.isnull().sum()"
   ]
  },
  {
   "cell_type": "code",
   "execution_count": 37,
   "id": "0586f8a2-2aba-4f43-afbc-44ac3a860b70",
   "metadata": {},
   "outputs": [],
   "source": [
    "def wisker(col):\n",
    "    q1,q3 = np.percentile(col,[25,75])\n",
    "    iqr = q3 - q1\n",
    "    lw = q1 - 1.5 * iqr\n",
    "    uw = q3 + 1.5 * iqr\n",
    "    return lw,uw"
   ]
  },
  {
   "cell_type": "code",
   "execution_count": 38,
   "id": "13d82f04-4771-45c5-ba38-d273ef80b317",
   "metadata": {},
   "outputs": [
    {
     "name": "stdout",
     "output_type": "stream",
     "text": [
      "Execution time: 0.018904924392700195 seconds\n"
     ]
    }
   ],
   "source": [
    "t1 = time.time()\n",
    "for i in ['Bedroom','Bathroom','sqft']:\n",
    "    lw,uw = wisker(data[i])\n",
    "    data[i] = np.where(data[i]<lw,lw,data[i])\n",
    "    data[i] = np.where(data[i]>uw,uw,data[i])\n",
    "t2 = time.time()\n",
    "print(f\"Execution time: {t2-t1} seconds\")\n"
   ]
  },
  {
   "cell_type": "code",
   "execution_count": 39,
   "id": "3ba964e4-f92d-4aae-bf3e-d73c5c7be526",
   "metadata": {},
   "outputs": [],
   "source": [
    "# Drop the duplicates"
   ]
  },
  {
   "cell_type": "code",
   "execution_count": 40,
   "id": "3ceda03b-75c0-4796-988c-c73fc37b7042",
   "metadata": {},
   "outputs": [
    {
     "data": {
      "text/html": [
       "<div>\n",
       "<style scoped>\n",
       "    .dataframe tbody tr th:only-of-type {\n",
       "        vertical-align: middle;\n",
       "    }\n",
       "\n",
       "    .dataframe tbody tr th {\n",
       "        vertical-align: top;\n",
       "    }\n",
       "\n",
       "    .dataframe thead th {\n",
       "        text-align: right;\n",
       "    }\n",
       "</style>\n",
       "<table border=\"1\" class=\"dataframe\">\n",
       "  <thead>\n",
       "    <tr style=\"text-align: right;\">\n",
       "      <th></th>\n",
       "      <th>Price</th>\n",
       "      <th>Bedroom</th>\n",
       "      <th>Bathroom</th>\n",
       "      <th>sqft</th>\n",
       "      <th>zipcode</th>\n",
       "      <th>Address</th>\n",
       "    </tr>\n",
       "  </thead>\n",
       "  <tbody>\n",
       "    <tr>\n",
       "      <th>0</th>\n",
       "      <td>289900</td>\n",
       "      <td>3.000000</td>\n",
       "      <td>2.000000</td>\n",
       "      <td>1431.000000</td>\n",
       "      <td>13084</td>\n",
       "      <td>1839 Collins Road,\\n       \\n        Pompey, N...</td>\n",
       "    </tr>\n",
       "    <tr>\n",
       "      <th>1</th>\n",
       "      <td>199900</td>\n",
       "      <td>3.000000</td>\n",
       "      <td>1.000000</td>\n",
       "      <td>985.000000</td>\n",
       "      <td>13084</td>\n",
       "      <td>5850 Winacre Drive,\\n       \\n        La Fayet...</td>\n",
       "    </tr>\n",
       "    <tr>\n",
       "      <th>2</th>\n",
       "      <td>114900</td>\n",
       "      <td>3.000000</td>\n",
       "      <td>2.000000</td>\n",
       "      <td>1274.000000</td>\n",
       "      <td>13084</td>\n",
       "      <td>3439 Route 11,\\n       \\n        La Fayette, N...</td>\n",
       "    </tr>\n",
       "    <tr>\n",
       "      <th>3</th>\n",
       "      <td>205092</td>\n",
       "      <td>3.000000</td>\n",
       "      <td>1.000000</td>\n",
       "      <td>1260.000000</td>\n",
       "      <td>13077</td>\n",
       "      <td>5390 Mead Road,\\n       \\n        Homer, NY 13077</td>\n",
       "    </tr>\n",
       "    <tr>\n",
       "      <th>4</th>\n",
       "      <td>24900</td>\n",
       "      <td>1.500000</td>\n",
       "      <td>1.000000</td>\n",
       "      <td>842.000000</td>\n",
       "      <td>13120</td>\n",
       "      <td>155 Meredith Avenue,\\n       \\n        Onondag...</td>\n",
       "    </tr>\n",
       "    <tr>\n",
       "      <th>...</th>\n",
       "      <td>...</td>\n",
       "      <td>...</td>\n",
       "      <td>...</td>\n",
       "      <td>...</td>\n",
       "      <td>...</td>\n",
       "      <td>...</td>\n",
       "    </tr>\n",
       "    <tr>\n",
       "      <th>107243</th>\n",
       "      <td>79900</td>\n",
       "      <td>3.467066</td>\n",
       "      <td>2.472057</td>\n",
       "      <td>2197.183153</td>\n",
       "      <td>24986</td>\n",
       "      <td>Lot 80, White Rock Trl,\\n       \\n        Cald...</td>\n",
       "    </tr>\n",
       "    <tr>\n",
       "      <th>107272</th>\n",
       "      <td>239000</td>\n",
       "      <td>2.000000</td>\n",
       "      <td>1.000000</td>\n",
       "      <td>864.000000</td>\n",
       "      <td>24993</td>\n",
       "      <td>821 Belleview Road,\\n       \\n        Wolfcree...</td>\n",
       "    </tr>\n",
       "    <tr>\n",
       "      <th>107273</th>\n",
       "      <td>1850000</td>\n",
       "      <td>3.467066</td>\n",
       "      <td>2.472057</td>\n",
       "      <td>2197.183153</td>\n",
       "      <td>24993</td>\n",
       "      <td>450 Belleview Road,\\n       \\n        Wolf Cre...</td>\n",
       "    </tr>\n",
       "    <tr>\n",
       "      <th>107274</th>\n",
       "      <td>1850000</td>\n",
       "      <td>5.500000</td>\n",
       "      <td>4.500000</td>\n",
       "      <td>3331.000000</td>\n",
       "      <td>24993</td>\n",
       "      <td>948 Belleview Road,\\n       \\n        Wolfcree...</td>\n",
       "    </tr>\n",
       "    <tr>\n",
       "      <th>107275</th>\n",
       "      <td>239000</td>\n",
       "      <td>2.000000</td>\n",
       "      <td>1.000000</td>\n",
       "      <td>864.000000</td>\n",
       "      <td>24993</td>\n",
       "      <td>821 BELLVIEW ROAD,\\n       \\n        WOLFCREEK...</td>\n",
       "    </tr>\n",
       "  </tbody>\n",
       "</table>\n",
       "<p>48540 rows × 6 columns</p>\n",
       "</div>"
      ],
      "text/plain": [
       "          Price   Bedroom  Bathroom         sqft zipcode  \\\n",
       "0        289900  3.000000  2.000000  1431.000000   13084   \n",
       "1        199900  3.000000  1.000000   985.000000   13084   \n",
       "2        114900  3.000000  2.000000  1274.000000   13084   \n",
       "3        205092  3.000000  1.000000  1260.000000   13077   \n",
       "4         24900  1.500000  1.000000   842.000000   13120   \n",
       "...         ...       ...       ...          ...     ...   \n",
       "107243    79900  3.467066  2.472057  2197.183153   24986   \n",
       "107272   239000  2.000000  1.000000   864.000000   24993   \n",
       "107273  1850000  3.467066  2.472057  2197.183153   24993   \n",
       "107274  1850000  5.500000  4.500000  3331.000000   24993   \n",
       "107275   239000  2.000000  1.000000   864.000000   24993   \n",
       "\n",
       "                                                  Address  \n",
       "0       1839 Collins Road,\\n       \\n        Pompey, N...  \n",
       "1       5850 Winacre Drive,\\n       \\n        La Fayet...  \n",
       "2       3439 Route 11,\\n       \\n        La Fayette, N...  \n",
       "3       5390 Mead Road,\\n       \\n        Homer, NY 13077  \n",
       "4       155 Meredith Avenue,\\n       \\n        Onondag...  \n",
       "...                                                   ...  \n",
       "107243  Lot 80, White Rock Trl,\\n       \\n        Cald...  \n",
       "107272  821 Belleview Road,\\n       \\n        Wolfcree...  \n",
       "107273  450 Belleview Road,\\n       \\n        Wolf Cre...  \n",
       "107274  948 Belleview Road,\\n       \\n        Wolfcree...  \n",
       "107275  821 BELLVIEW ROAD,\\n       \\n        WOLFCREEK...  \n",
       "\n",
       "[48540 rows x 6 columns]"
      ]
     },
     "execution_count": 40,
     "metadata": {},
     "output_type": "execute_result"
    }
   ],
   "source": [
    "data.drop_duplicates()"
   ]
  },
  {
   "cell_type": "code",
   "execution_count": 41,
   "id": "5dff2619-2fea-4474-a620-5a71a8f2a0a1",
   "metadata": {},
   "outputs": [
    {
     "data": {
      "text/plain": [
       "(107294, 6)"
      ]
     },
     "execution_count": 41,
     "metadata": {},
     "output_type": "execute_result"
    }
   ],
   "source": [
    "data.shape"
   ]
  },
  {
   "cell_type": "code",
   "execution_count": 42,
   "id": "b607e2dd-7e80-4dc8-8054-a0d7d44b1e13",
   "metadata": {},
   "outputs": [
    {
     "data": {
      "text/html": [
       "<div>\n",
       "<style scoped>\n",
       "    .dataframe tbody tr th:only-of-type {\n",
       "        vertical-align: middle;\n",
       "    }\n",
       "\n",
       "    .dataframe tbody tr th {\n",
       "        vertical-align: top;\n",
       "    }\n",
       "\n",
       "    .dataframe thead th {\n",
       "        text-align: right;\n",
       "    }\n",
       "</style>\n",
       "<table border=\"1\" class=\"dataframe\">\n",
       "  <thead>\n",
       "    <tr style=\"text-align: right;\">\n",
       "      <th></th>\n",
       "      <th>Price</th>\n",
       "      <th>Bedroom</th>\n",
       "      <th>Bathroom</th>\n",
       "      <th>sqft</th>\n",
       "      <th>zipcode</th>\n",
       "      <th>Address</th>\n",
       "    </tr>\n",
       "  </thead>\n",
       "  <tbody>\n",
       "    <tr>\n",
       "      <th>0</th>\n",
       "      <td>289900</td>\n",
       "      <td>3.0</td>\n",
       "      <td>2.0</td>\n",
       "      <td>1431.0</td>\n",
       "      <td>13084</td>\n",
       "      <td>1839 Collins Road,\\n       \\n        Pompey, N...</td>\n",
       "    </tr>\n",
       "    <tr>\n",
       "      <th>1</th>\n",
       "      <td>199900</td>\n",
       "      <td>3.0</td>\n",
       "      <td>1.0</td>\n",
       "      <td>985.0</td>\n",
       "      <td>13084</td>\n",
       "      <td>5850 Winacre Drive,\\n       \\n        La Fayet...</td>\n",
       "    </tr>\n",
       "    <tr>\n",
       "      <th>2</th>\n",
       "      <td>114900</td>\n",
       "      <td>3.0</td>\n",
       "      <td>2.0</td>\n",
       "      <td>1274.0</td>\n",
       "      <td>13084</td>\n",
       "      <td>3439 Route 11,\\n       \\n        La Fayette, N...</td>\n",
       "    </tr>\n",
       "    <tr>\n",
       "      <th>3</th>\n",
       "      <td>205092</td>\n",
       "      <td>3.0</td>\n",
       "      <td>1.0</td>\n",
       "      <td>1260.0</td>\n",
       "      <td>13077</td>\n",
       "      <td>5390 Mead Road,\\n       \\n        Homer, NY 13077</td>\n",
       "    </tr>\n",
       "    <tr>\n",
       "      <th>4</th>\n",
       "      <td>24900</td>\n",
       "      <td>1.5</td>\n",
       "      <td>1.0</td>\n",
       "      <td>842.0</td>\n",
       "      <td>13120</td>\n",
       "      <td>155 Meredith Avenue,\\n       \\n        Onondag...</td>\n",
       "    </tr>\n",
       "    <tr>\n",
       "      <th>5</th>\n",
       "      <td>80000</td>\n",
       "      <td>4.0</td>\n",
       "      <td>1.0</td>\n",
       "      <td>1330.0</td>\n",
       "      <td>13120</td>\n",
       "      <td>104 West Roswell Avenue,\\n       \\n        Ono...</td>\n",
       "    </tr>\n",
       "  </tbody>\n",
       "</table>\n",
       "</div>"
      ],
      "text/plain": [
       "    Price  Bedroom  Bathroom    sqft zipcode  \\\n",
       "0  289900      3.0       2.0  1431.0   13084   \n",
       "1  199900      3.0       1.0   985.0   13084   \n",
       "2  114900      3.0       2.0  1274.0   13084   \n",
       "3  205092      3.0       1.0  1260.0   13077   \n",
       "4   24900      1.5       1.0   842.0   13120   \n",
       "5   80000      4.0       1.0  1330.0   13120   \n",
       "\n",
       "                                             Address  \n",
       "0  1839 Collins Road,\\n       \\n        Pompey, N...  \n",
       "1  5850 Winacre Drive,\\n       \\n        La Fayet...  \n",
       "2  3439 Route 11,\\n       \\n        La Fayette, N...  \n",
       "3  5390 Mead Road,\\n       \\n        Homer, NY 13077  \n",
       "4  155 Meredith Avenue,\\n       \\n        Onondag...  \n",
       "5  104 West Roswell Avenue,\\n       \\n        Ono...  "
      ]
     },
     "execution_count": 42,
     "metadata": {},
     "output_type": "execute_result"
    }
   ],
   "source": [
    "data.head(6)"
   ]
  },
  {
   "cell_type": "code",
   "execution_count": 43,
   "id": "c9719d70-1c9a-418d-8b1e-ab099c7d4f4d",
   "metadata": {},
   "outputs": [],
   "source": [
    "y = data['Price']\n",
    "x = data.drop(['Price', 'Address'], axis=1) "
   ]
  },
  {
   "cell_type": "code",
   "execution_count": 44,
   "id": "82a8f36c-1668-4cd3-b20f-2f4bfa712d1e",
   "metadata": {},
   "outputs": [],
   "source": [
    "x = pd.get_dummies(x, columns=['zipcode'], drop_first=True) "
   ]
  },
  {
   "cell_type": "code",
   "execution_count": 45,
   "id": "5bde3661-fe55-464e-a71c-3458282a974f",
   "metadata": {},
   "outputs": [],
   "source": [
    "from sklearn.model_selection import train_test_split as tts\n",
    "X_train, X_test, y_train, y_test = tts(x, y, test_size=0.2, random_state=42)"
   ]
  },
  {
   "cell_type": "code",
   "execution_count": 46,
   "id": "3cb0d738-6e64-49c2-aca2-ddc57b1abcc2",
   "metadata": {},
   "outputs": [
    {
     "name": "stdout",
     "output_type": "stream",
     "text": [
      "Mean Squared Error: 231191218479.13263\n",
      "R^2 Score: 0.3665739795226468\n"
     ]
    }
   ],
   "source": [
    "# before scaling\n",
    "from sklearn.linear_model import LinearRegression\n",
    "from sklearn.metrics import mean_squared_error, r2_score\n",
    "\n",
    "model = LinearRegression()\n",
    "\n",
    "model.fit(X_train, y_train)\n",
    "\n",
    "\n",
    "y_pred = model.predict(X_test)\n",
    "\n",
    "\n",
    "mse = mean_squared_error(y_test, y_pred)\n",
    "r2 = r2_score(y_test, y_pred)\n",
    "\n",
    "print(f\"Mean Squared Error: {mse}\")\n",
    "print(f\"R^2 Score: {r2}\")"
   ]
  },
  {
   "cell_type": "code",
   "execution_count": null,
   "id": "c1369b4f-e2e0-43d7-ae6d-7f655893922f",
   "metadata": {},
   "outputs": [],
   "source": [
    "from sklearn.preprocessing import StandardScaler as SS\n",
    "ss = SS()\n",
    "X_train_scaled = ss.fit_transform(X_train)\n",
    "X_test_scaled = ss.transform(X_test)"
   ]
  },
  {
   "cell_type": "code",
   "execution_count": null,
   "id": "b43fb115-8ebf-452a-9939-d6a403b2c962",
   "metadata": {},
   "outputs": [],
   "source": [
    "\n",
    "from sklearn.tree import DecisionTreeClassifier\n",
    "t1 = time.time()\n",
    "model = DecisionTreeClassifier()\n",
    "model.fit(X_train, y_train)\n",
    "y_pred = model.predict(X_test_scaled)\n",
    "\n",
    "mse = mean_squared_error(y_test, y_pred)\n",
    "r2 = r2_score(y_test, y_pred)\n",
    "t2 = time.time()\n",
    "print(f\"Mean Squared Error: {mse}\")\n",
    "print(f\"R^2 Score: {r2}\")\n",
    "print(f\"Execution time: {t2-t1} seconds\")"
   ]
  },
  {
   "cell_type": "code",
   "execution_count": null,
   "id": "a8030964-bff5-4d7b-aa7a-c028bd3a9f75",
   "metadata": {},
   "outputs": [],
   "source": [
    "from sklearn.ensemble import RandomForestClassifier\n",
    "t1 = time.time()\n",
    "model = RandomForestClassifier(n_estimators=100)\n",
    "model.fit(X_train, y_train)\n",
    "y_pred = model.predict(X_test_scaled)\n",
    "mse = mean_squared_error(y_test, y_pred)\n",
    "r2 = r2_score(y_test, y_pred)\n",
    "t2 = time.time()\n",
    "print(f\"Mean Squared Error: {mse}\")\n",
    "print(f\"R^2 Score: {r2}\")\n",
    "print(f\"Execution time: {t2-t1} seconds\")"
   ]
  },
  {
   "cell_type": "code",
   "execution_count": null,
   "id": "9b281ca1-d2c5-41a1-86a8-43cba964e30a",
   "metadata": {},
   "outputs": [],
   "source": [
    "from sklearn.svm import SVC\n",
    "t1 = time.time()\n",
    "model = SVC(kernel='linear')\n",
    "model.fit(X_train, y_train)\n",
    "y_pred = model.predict(X_test_scaled)\n",
    "mse = mean_squared_error(y_test, y_pred)\n",
    "r2 = r2_score(y_test, y_pred)\n",
    "t2 = time.time()\n",
    "print(f\"Mean Squared Error: {mse}\")\n",
    "print(f\"R^2 Score: {r2}\")\n",
    "print(f\"Execution time: {t2-t1} seconds\")"
   ]
  },
  {
   "cell_type": "code",
   "execution_count": null,
   "id": "f1d11e0f-445f-41fa-a096-ec0ff0ac2e8e",
   "metadata": {},
   "outputs": [],
   "source": []
  },
  {
   "cell_type": "code",
   "execution_count": null,
   "id": "08ddb5c9-c5c8-407e-880b-dc90aff481cf",
   "metadata": {},
   "outputs": [],
   "source": []
  },
  {
   "cell_type": "code",
   "execution_count": null,
   "id": "ad710437-b36a-49c8-8c49-628b35bbca3a",
   "metadata": {},
   "outputs": [],
   "source": []
  }
 ],
 "metadata": {
  "kernelspec": {
   "display_name": "Python 3 (ipykernel)",
   "language": "python",
   "name": "python3"
  },
  "language_info": {
   "codemirror_mode": {
    "name": "ipython",
    "version": 3
   },
   "file_extension": ".py",
   "mimetype": "text/x-python",
   "name": "python",
   "nbconvert_exporter": "python",
   "pygments_lexer": "ipython3",
   "version": "3.11.7"
  }
 },
 "nbformat": 4,
 "nbformat_minor": 5
}
